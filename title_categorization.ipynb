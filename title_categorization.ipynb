{
 "cells": [
  {
   "cell_type": "code",
   "execution_count": 30,
   "metadata": {},
   "outputs": [
    {
     "name": "stdout",
     "output_type": "stream",
     "text": [
      "The autoreload extension is already loaded. To reload it, use:\n",
      "  %reload_ext autoreload\n"
     ]
    }
   ],
   "source": [
    "%load_ext autoreload\n",
    "%autoreload 2\n",
    "\n",
    "from nlp_utils import PreProcessing\n",
    "from nlp_utils import TopicModeling\n",
    "from google.cloud import bigquery\n",
    "import pandas as pd\n",
    "import time\n",
    "from sklearn.feature_extraction.text import TfidfVectorizer\n",
    "from nltk.tokenize import word_tokenize\n",
    "from nltk.corpus import stopwords\n"
   ]
  },
  {
   "cell_type": "code",
   "execution_count": 13,
   "metadata": {},
   "outputs": [
    {
     "data": {
      "text/html": [
       "<div>\n",
       "<style scoped>\n",
       "    .dataframe tbody tr th:only-of-type {\n",
       "        vertical-align: middle;\n",
       "    }\n",
       "\n",
       "    .dataframe tbody tr th {\n",
       "        vertical-align: top;\n",
       "    }\n",
       "\n",
       "    .dataframe thead th {\n",
       "        text-align: right;\n",
       "    }\n",
       "</style>\n",
       "<table border=\"1\" class=\"dataframe\">\n",
       "  <thead>\n",
       "    <tr style=\"text-align: right;\">\n",
       "      <th></th>\n",
       "      <th>video_id</th>\n",
       "      <th>channel_id</th>\n",
       "      <th>video_title</th>\n",
       "      <th>label</th>\n",
       "    </tr>\n",
       "  </thead>\n",
       "  <tbody>\n",
       "    <tr>\n",
       "      <th>0</th>\n",
       "      <td>-GjJTsTHL_U</td>\n",
       "      <td>UC-8Uff7i2h5qtIvjXJDJqYA</td>\n",
       "      <td>Arranjos Florais: 19/08, na Fnac da Paulista (SP)</td>\n",
       "      <td>Gardening</td>\n",
       "    </tr>\n",
       "    <tr>\n",
       "      <th>1</th>\n",
       "      <td>-RM0Em8oSd8</td>\n",
       "      <td>UC-8Uff7i2h5qtIvjXJDJqYA</td>\n",
       "      <td>Saiba tirar muda da orquídea Phalaenopsis (kei...</td>\n",
       "      <td>Gardening</td>\n",
       "    </tr>\n",
       "    <tr>\n",
       "      <th>2</th>\n",
       "      <td>0ORo9kvtOrE</td>\n",
       "      <td>UC-8Uff7i2h5qtIvjXJDJqYA</td>\n",
       "      <td>Regador com garrafa PET e outros truques de ja...</td>\n",
       "      <td>Gardening</td>\n",
       "    </tr>\n",
       "    <tr>\n",
       "      <th>3</th>\n",
       "      <td>10L1DZTP1Ak</td>\n",
       "      <td>UC-8Uff7i2h5qtIvjXJDJqYA</td>\n",
       "      <td>Curso de Agricultura Biodinâmica (Fazendeira p...</td>\n",
       "      <td>Gardening</td>\n",
       "    </tr>\n",
       "    <tr>\n",
       "      <th>4</th>\n",
       "      <td>1dnkMo7vlBY</td>\n",
       "      <td>UC-8Uff7i2h5qtIvjXJDJqYA</td>\n",
       "      <td>11 plantas perfeitas para ter em local sem sol</td>\n",
       "      <td>Gardening</td>\n",
       "    </tr>\n",
       "  </tbody>\n",
       "</table>\n",
       "</div>"
      ],
      "text/plain": [
       "      video_id                channel_id  \\\n",
       "0  -GjJTsTHL_U  UC-8Uff7i2h5qtIvjXJDJqYA   \n",
       "1  -RM0Em8oSd8  UC-8Uff7i2h5qtIvjXJDJqYA   \n",
       "2  0ORo9kvtOrE  UC-8Uff7i2h5qtIvjXJDJqYA   \n",
       "3  10L1DZTP1Ak  UC-8Uff7i2h5qtIvjXJDJqYA   \n",
       "4  1dnkMo7vlBY  UC-8Uff7i2h5qtIvjXJDJqYA   \n",
       "\n",
       "                                         video_title      label  \n",
       "0  Arranjos Florais: 19/08, na Fnac da Paulista (SP)  Gardening  \n",
       "1  Saiba tirar muda da orquídea Phalaenopsis (kei...  Gardening  \n",
       "2  Regador com garrafa PET e outros truques de ja...  Gardening  \n",
       "3  Curso de Agricultura Biodinâmica (Fazendeira p...  Gardening  \n",
       "4     11 plantas perfeitas para ter em local sem sol  Gardening  "
      ]
     },
     "execution_count": 13,
     "metadata": {},
     "output_type": "execute_result"
    }
   ],
   "source": [
    "nome_da_aba = \"Base 34K\"\n",
    "df = pd.read_excel('data/data.xlsx', sheet_name=nome_da_aba)[[\"video_id\",\"channel_id\",\"video_title\", \"Label\"]]\n",
    "\n",
    "novo_nome_colunas = [coluna.replace(' ', '_').lower() for coluna in df.columns]\n",
    "df['video_title'] = df['video_title'].astype(str)\n",
    "df.columns = novo_nome_colunas\n",
    "\n",
    "df.head()"
   ]
  },
  {
   "cell_type": "code",
   "execution_count": 8,
   "metadata": {},
   "outputs": [
    {
     "name": "stdout",
     "output_type": "stream",
     "text": [
      "15:35:46 - Adicionanado novas stopwords.\n",
      "15:35:46 -    Serão adcionada(s) 76 palavra(s)\n",
      "15:35:46 -    Tamanho da lista de stopwords: 481\n",
      "15:35:46 -    Tamanho da lista de stopwords: 481\n"
     ]
    }
   ],
   "source": [
    "#NLP\n",
    "stop_word_list =   [\"aqui\", \"gente\", \"oi\", \"então\", \"ai\", \"aí\", \"ufa\", \"coisa\", \"[Aplausos]\", \"[Música]\", \"né\",\"tá\", \"vídeo\",\"ne\", \"ta\", \"ha\", \"one\", \"at\",\n",
    "                    \"casar\", \"coisa\",\"canal\", \"tipo\", \"vezes\", \"mano\", \"meio\", \"ea\", \"eo\", \"só\", \"ae\", \"eis\", \"caraca\", \"caramba\", \"feat\", \"ft\",\n",
    "                    \"graciele_lacerda\",  \"flavia_calino\", \"richard_rasmussen\", \"rezende_evil\", \"divo_depressao\", \"receitar_cris\", \"luisa_mell\",\n",
    "                    \"leo_stronda\", \"divo_depressao\", \"estevar_mundo\", \"sal_flor\", \"tiago_fonseca\", \"graciele_lacerda\", \"organizar_frescura\", \"eduardo_bueno\",\n",
    "                    \"debora_aladim\", \"paula_stephania\", \"dani_noce\t\", \"tpm_ju\", \"prof_paulo\", \"meteoro_doc\", \"mariano_saad\", \"familia_brancoala\", \"osf_rafar\",\n",
    "                    \"oliveira\", \"isabella_fiorentino\", \"pit_money\", \"luca_pit\", \"murilo_coutar\", \"bianca_andrade\", \"manual_mundo\", \"receitar_pai\", \"dani_noce\", \"thiago_venturo\",\n",
    "                    \"danilo_gentili\", \"tato_fersoza\", \"teodoro_tato\", \"of_the\", \"like\", \"it\", \"house\", \"danilo\"\n",
    "                    ] #lista de stop words extendida\n",
    "\n",
    "pp = PreProcessing.PreProcessing(stop_words_list=stop_word_list)"
   ]
  },
  {
   "cell_type": "code",
   "execution_count": 26,
   "metadata": {},
   "outputs": [],
   "source": [
    "stop_words_custom  =   [\"aqui\", \"gente\", \"oi\", \"então\", \"ai\", \"aí\", \"ufa\", \"coisa\", \"[Aplausos]\", \"[Música]\", \"né\",\"tá\", \"vídeo\",\"ne\", \"ta\", \"ha\", \"one\", \"at\",\n",
    "                    \"casar\", \"coisa\",\"canal\", \"tipo\", \"vezes\", \"mano\", \"meio\", \"ea\", \"eo\", \"só\", \"ae\", \"eis\", \"caraca\", \"caramba\", \"feat\", \"ft\",\n",
    "                    \"graciele_lacerda\",  \"flavia_calino\", \"richard_rasmussen\", \"rezende_evil\", \"divo_depressao\", \"receitar_cris\", \"luisa_mell\",\n",
    "                    \"leo_stronda\", \"divo_depressao\", \"estevar_mundo\", \"sal_flor\", \"tiago_fonseca\", \"graciele_lacerda\", \"organizar_frescura\", \"eduardo_bueno\",\n",
    "                    \"debora_aladim\", \"paula_stephania\", \"dani_noce\t\", \"tpm_ju\", \"prof_paulo\", \"meteoro_doc\", \"mariano_saad\", \"familia_brancoala\", \"osf_rafar\",\n",
    "                    \"oliveira\", \"isabella_fiorentino\", \"pit_money\", \"luca_pit\", \"murilo_coutar\", \"bianca_andrade\", \"manual_mundo\", \"receitar_pai\", \"dani_noce\", \"thiago_venturo\",\n",
    "                    \"danilo_gentili\", \"tato_fersoza\", \"teodoro_tato\", \"of_the\", \"like\", \"it\", \"house\", \"danilo\", \"tatá\", \"fersoza\" \n",
    "                    ] #lista de stop words extendida\n"
   ]
  },
  {
   "cell_type": "code",
   "execution_count": 31,
   "metadata": {},
   "outputs": [
    {
     "name": "stdout",
     "output_type": "stream",
     "text": [
      "                                             video_title  \\\n",
      "0      Arranjos Florais: 19/08, na Fnac da Paulista (SP)   \n",
      "1      Saiba tirar muda da orquídea Phalaenopsis (kei...   \n",
      "2      Regador com garrafa PET e outros truques de ja...   \n",
      "3      Curso de Agricultura Biodinâmica (Fazendeira p...   \n",
      "4         11 plantas perfeitas para ter em local sem sol   \n",
      "...                                                  ...   \n",
      "34558                    Mais um a caminho! Tatá Fersoza   \n",
      "34559                   Respondendo Vocês - Tatá Fersoza   \n",
      "34560                    Imagina com dois - Tatá Fersoza   \n",
      "34561    Meus primeiros 15 dias como mamãe! Tatá Fersoza   \n",
      "34562  &quot;As perguntas q a gente não aguenta mais ...   \n",
      "\n",
      "                                     palavras_relevantes  \n",
      "0      [florais, fnac, arranjos, paulista, sp, 19, 08...  \n",
      "1      [keikis, phalaenopsis, orquídea, muda, tirar, ...  \n",
      "2      [regador, malucos, garrafa, jardinagem, costa,...  \n",
      "3      [biodinâmica, agricultura, fazendeira, semana,...  \n",
      "4      [perfeitas, local, sol, plantas, 11, ter, elec...  \n",
      "...                                                  ...  \n",
      "34558  [caminho, tatá, fersoza, 本物の石膏, ekans, ein, ei...  \n",
      "34559  [respondendo, tatá, fersoza, ejeta, eim, ein, ...  \n",
      "34560  [imagina, dois, tatá, fersoza, ejeta, eim, ein...  \n",
      "34561  [primeiros, mamãe, dias, 15, tatá, fersoza, 本物...  \n",
      "34562  [quot, rs, aguenta, ouvir, perguntas, fersoza,...  \n",
      "\n",
      "[34563 rows x 2 columns]\n"
     ]
    }
   ],
   "source": [
    "def preprocess_text(text):\n",
    "    # Adicione as stop words personalizadas à lista de stop words padrão\n",
    "    stop_words = set(stopwords.words('portuguese'))  # Pode mudar para o idioma desejado\n",
    "    stop_words.update(stop_words_custom)\n",
    "    \n",
    "    words = word_tokenize(text)\n",
    "    filtered_words = [word for word in words if word.lower() not in stop_words]\n",
    "    return ' '.join(filtered_words)\n",
    "\n",
    "# Aplica a função de pré-processamento à coluna 'texto'\n",
    "df['texto_processado'] = df['video_title'].apply(preprocess_text)\n",
    "\n",
    "# Calcula o TF-IDF\n",
    "tfidf_vectorizer = TfidfVectorizer()\n",
    "tfidf_matrix = tfidf_vectorizer.fit_transform(df['texto_processado'])\n",
    "\n",
    "# Obtém os índices das palavras mais relevantes para cada documento\n",
    "num_palavras_relevantes = 10  # Altere para o número desejado de palavras relevantes\n",
    "palavras_relevantes = []\n",
    "\n",
    "for i in range(len(df)):\n",
    "    doc = df['texto_processado'].iloc[i]\n",
    "    tfidf_scores = tfidf_matrix[i, :].toarray()[0]\n",
    "    top_indices = tfidf_scores.argsort()[-num_palavras_relevantes:][::-1]\n",
    "    top_words = [tfidf_vectorizer.get_feature_names_out()[idx] for idx in top_indices]\n",
    "    palavras_relevantes.append(top_words)\n",
    "\n",
    "# Adiciona a lista de palavras relevantes ao DataFrame\n",
    "df['palavras_relevantes'] = palavras_relevantes\n",
    "\n",
    "# Exibe o DataFrame com as palavras relevantes\n",
    "print(df[['video_title', 'palavras_relevantes']])"
   ]
  },
  {
   "cell_type": "code",
   "execution_count": null,
   "metadata": {},
   "outputs": [],
   "source": []
  },
  {
   "cell_type": "code",
   "execution_count": null,
   "metadata": {},
   "outputs": [],
   "source": []
  },
  {
   "cell_type": "code",
   "execution_count": null,
   "metadata": {},
   "outputs": [],
   "source": []
  },
  {
   "cell_type": "code",
   "execution_count": 10,
   "metadata": {},
   "outputs": [
    {
     "name": "stdout",
     "output_type": "stream",
     "text": [
      "15:38:28 - Iniciando pipeline de pré processamento:\n",
      "15:38:28 - Removendo Urls:\n",
      "15:38:28 - Filtrando Pos Tags\n",
      "15:40:31 - Tokenizando\n",
      "15:40:32 - Removendo Stop Words\n",
      "15:40:32 -     -> Expandindo Stop Words\n",
      "15:40:32 - Adicionanado novas stopwords.\n",
      "15:40:32 -    Serão adcionada(s) 76 palavra(s)\n",
      "15:40:32 -    Tamanho da lista de stopwords: 481\n",
      "15:40:32 -    Tamanho da lista de stopwords: 481\n",
      "15:40:33 - Lematizando\n",
      "15:42:00 - Ngrams: Extraindo os Ngrams a partir de um modelo pré treinado.\n",
      "15:42:02 - Filtrando tokens menores que 2\n",
      "-> 215.2613706588745 Segundos\n"
     ]
    }
   ],
   "source": [
    "start_time = time.time()\n",
    "# lista_documentos = df_video_transcriptions[\"transcription_pt\"].to_list()\n",
    "lista_documentos = df[\"video_title\"].to_list()\n",
    "\n",
    "allowed_postags = [\"NOUN\",\"VERB\", \"PROPN\"] # filtro de postags\n",
    "min_count=5  # Ngram - confiança\n",
    "threshold=10 # Ngram - suporte\n",
    "grau=4       # Ngram - quadrigrams\n",
    "token_to_lower=True #Converter tudo para minusculo \n",
    "token_acentuacao=False #Manter Acentuação\n",
    "\n",
    "corpus, modelo_ngram = pp.pipeline_pre_processamento(lista_documentos, \n",
    "                                allowed_postags=allowed_postags,\n",
    "                                token_to_lower=token_to_lower, \n",
    "                                token_acentuacao=token_acentuacao,\n",
    "                                n_gram_grau=grau,\n",
    "                                n_gram_min_count=min_count,\n",
    "                                n_gram_threshold=threshold,\n",
    "                                stop_word_list=stop_word_list,\n",
    "                                )\n",
    "corpus = pp.remover_stop_words(corpus)\n",
    "\n",
    "print(\"-> %s Segundos\" % (time.time() - start_time))"
   ]
  },
  {
   "cell_type": "code",
   "execution_count": 14,
   "metadata": {},
   "outputs": [
    {
     "data": {
      "text/html": [
       "<div>\n",
       "<style scoped>\n",
       "    .dataframe tbody tr th:only-of-type {\n",
       "        vertical-align: middle;\n",
       "    }\n",
       "\n",
       "    .dataframe tbody tr th {\n",
       "        vertical-align: top;\n",
       "    }\n",
       "\n",
       "    .dataframe thead th {\n",
       "        text-align: right;\n",
       "    }\n",
       "</style>\n",
       "<table border=\"1\" class=\"dataframe\">\n",
       "  <thead>\n",
       "    <tr style=\"text-align: right;\">\n",
       "      <th></th>\n",
       "      <th>video_id</th>\n",
       "      <th>channel_id</th>\n",
       "      <th>video_title</th>\n",
       "      <th>label</th>\n",
       "      <th>corpus</th>\n",
       "    </tr>\n",
       "  </thead>\n",
       "  <tbody>\n",
       "    <tr>\n",
       "      <th>0</th>\n",
       "      <td>-GjJTsTHL_U</td>\n",
       "      <td>UC-8Uff7i2h5qtIvjXJDJqYA</td>\n",
       "      <td>Arranjos Florais: 19/08, na Fnac da Paulista (SP)</td>\n",
       "      <td>Gardening</td>\n",
       "      <td>[arranjo, Fnac, paulista, sp]</td>\n",
       "    </tr>\n",
       "    <tr>\n",
       "      <th>1</th>\n",
       "      <td>-RM0Em8oSd8</td>\n",
       "      <td>UC-8Uff7i2h5qtIvjXJDJqYA</td>\n",
       "      <td>Saiba tirar muda da orquídea Phalaenopsis (kei...</td>\n",
       "      <td>Gardening</td>\n",
       "      <td>[tirar, mudar, orquidea, phalaenopsis]</td>\n",
       "    </tr>\n",
       "    <tr>\n",
       "      <th>2</th>\n",
       "      <td>0ORo9kvtOrE</td>\n",
       "      <td>UC-8Uff7i2h5qtIvjXJDJqYA</td>\n",
       "      <td>Regador com garrafa PET e outros truques de ja...</td>\n",
       "      <td>Gardening</td>\n",
       "      <td>[regador, garrafar, pet, truque, jardinagem_ca...</td>\n",
       "    </tr>\n",
       "    <tr>\n",
       "      <th>3</th>\n",
       "      <td>10L1DZTP1Ak</td>\n",
       "      <td>UC-8Uff7i2h5qtIvjXJDJqYA</td>\n",
       "      <td>Curso de Agricultura Biodinâmica (Fazendeira p...</td>\n",
       "      <td>Gardening</td>\n",
       "      <td>[curso, agricultura, biodinamico, fazendeiro_s...</td>\n",
       "    </tr>\n",
       "    <tr>\n",
       "      <th>4</th>\n",
       "      <td>1dnkMo7vlBY</td>\n",
       "      <td>UC-8Uff7i2h5qtIvjXJDJqYA</td>\n",
       "      <td>11 plantas perfeitas para ter em local sem sol</td>\n",
       "      <td>Gardening</td>\n",
       "      <td>[planta, sol]</td>\n",
       "    </tr>\n",
       "  </tbody>\n",
       "</table>\n",
       "</div>"
      ],
      "text/plain": [
       "      video_id                channel_id  \\\n",
       "0  -GjJTsTHL_U  UC-8Uff7i2h5qtIvjXJDJqYA   \n",
       "1  -RM0Em8oSd8  UC-8Uff7i2h5qtIvjXJDJqYA   \n",
       "2  0ORo9kvtOrE  UC-8Uff7i2h5qtIvjXJDJqYA   \n",
       "3  10L1DZTP1Ak  UC-8Uff7i2h5qtIvjXJDJqYA   \n",
       "4  1dnkMo7vlBY  UC-8Uff7i2h5qtIvjXJDJqYA   \n",
       "\n",
       "                                         video_title      label  \\\n",
       "0  Arranjos Florais: 19/08, na Fnac da Paulista (SP)  Gardening   \n",
       "1  Saiba tirar muda da orquídea Phalaenopsis (kei...  Gardening   \n",
       "2  Regador com garrafa PET e outros truques de ja...  Gardening   \n",
       "3  Curso de Agricultura Biodinâmica (Fazendeira p...  Gardening   \n",
       "4     11 plantas perfeitas para ter em local sem sol  Gardening   \n",
       "\n",
       "                                              corpus  \n",
       "0                      [arranjo, Fnac, paulista, sp]  \n",
       "1             [tirar, mudar, orquidea, phalaenopsis]  \n",
       "2  [regador, garrafar, pet, truque, jardinagem_ca...  \n",
       "3  [curso, agricultura, biodinamico, fazendeiro_s...  \n",
       "4                                      [planta, sol]  "
      ]
     },
     "execution_count": 14,
     "metadata": {},
     "output_type": "execute_result"
    }
   ],
   "source": [
    "df[\"corpus\"] = corpus\n",
    "df.head()"
   ]
  },
  {
   "cell_type": "code",
   "execution_count": 21,
   "metadata": {},
   "outputs": [
    {
     "name": "stdout",
     "output_type": "stream",
     "text": [
      "[[0. 0. 0. ... 0. 0. 0.]\n",
      " [0. 0. 0. ... 0. 0. 0.]\n",
      " [0. 0. 0. ... 0. 0. 0.]\n",
      " ...\n",
      " [0. 0. 0. ... 0. 0. 0.]\n",
      " [0. 0. 0. ... 0. 0. 0.]\n",
      " [0. 0. 0. ... 0. 0. 0.]]\n"
     ]
    }
   ],
   "source": [
    "def tokens_to_text(tokens):\n",
    "    if tokens is None:\n",
    "        return \"\"\n",
    "    return ' '.join(map(str, tokens))\n",
    "\n",
    "# Converter cada lista de tokens em documentos de texto, usando a função auxiliar\n",
    "df['texto'] = df['corpus'].apply(tokens_to_text)\n",
    "\n",
    "# Criar um objeto TfidfVectorizer\n",
    "tfidf_vectorizer = TfidfVectorizer()\n",
    "\n",
    "# Ajustar o vetorizador TF-IDF aos documentos de texto\n",
    "tfidf_matrix = tfidf_vectorizer.fit_transform(df['texto'])\n",
    "\n",
    "# Obter a matriz TF-IDF em formato de matriz NumPy (opcional)\n",
    "tfidf_matrix_array = tfidf_matrix.toarray()\n",
    "\n",
    "# A matriz TF-IDF contém as pontuações TF-IDF para cada termo em cada documento\n",
    "# Você pode acessar os valores individualmente, se necessário\n",
    "print(tfidf_matrix_array)"
   ]
  },
  {
   "cell_type": "code",
   "execution_count": 23,
   "metadata": {},
   "outputs": [
    {
     "ename": "NameError",
     "evalue": "name 'stop_words' is not defined",
     "output_type": "error",
     "traceback": [
      "\u001b[1;31m---------------------------------------------------------------------------\u001b[0m",
      "\u001b[1;31mNameError\u001b[0m                                 Traceback (most recent call last)",
      "Cell \u001b[1;32mIn[23], line 1\u001b[0m\n\u001b[1;32m----> 1\u001b[0m tfidf_vectorizer \u001b[38;5;241m=\u001b[39m TfidfVectorizer(stop_words\u001b[38;5;241m=\u001b[39m\u001b[43mstop_words\u001b[49m)\n\u001b[0;32m      3\u001b[0m \u001b[38;5;66;03m# Ajustar o vetorizador TF-IDF aos documentos de texto\u001b[39;00m\n\u001b[0;32m      4\u001b[0m tfidf_matrix \u001b[38;5;241m=\u001b[39m tfidf_vectorizer\u001b[38;5;241m.\u001b[39mfit_transform(df[\u001b[38;5;124m'\u001b[39m\u001b[38;5;124mtexto\u001b[39m\u001b[38;5;124m'\u001b[39m])\n",
      "\u001b[1;31mNameError\u001b[0m: name 'stop_words' is not defined"
     ]
    }
   ],
   "source": [
    "tfidf_vectorizer = TfidfVectorizer(stop_words=stop_words)\n",
    "\n",
    "# Ajustar o vetorizador TF-IDF aos documentos de texto\n",
    "tfidf_matrix = tfidf_vectorizer.fit_transform(df['texto'])\n",
    "\n",
    "# Função para obter os tokens mais relevantes com base nas pontuações TF-IDF\n",
    "def get_top_tokens(tfidf_matrix, tfidf_vectorizer, num_top_tokens=5):\n",
    "    top_tokens_per_document = []\n",
    "    feature_names = tfidf_vectorizer.get_feature_names_out()\n",
    "    \n",
    "    for i in range(tfidf_matrix.shape[0]):\n",
    "        tfidf_scores = tfidf_matrix[i].toarray()[0]\n",
    "        top_indices = tfidf_scores.argsort()[-num_top_tokens:][::-1]\n",
    "        top_tokens = [feature_names[idx] for idx in top_indices]\n",
    "        top_tokens_per_document.append(top_tokens)\n",
    "    \n",
    "    return top_tokens_per_document\n",
    "\n",
    "# Chamando a função para obter os tokens mais relevantes\n",
    "num_top_tokens = 5  # Número de tokens mais relevantes para retornar por documento\n",
    "top_tokens = get_top_tokens(tfidf_matrix, tfidf_vectorizer, num_top_tokens)\n",
    "\n",
    "# Adicionando a lista de tokens mais relevantes ao DataFrame 'df'\n",
    "df['top_tokens'] = top_tokens\n",
    "\n",
    "# Exibir o DataFrame com os tokens mais relevantes\n",
    "print(df[['corpus', 'top_tokens']])"
   ]
  }
 ],
 "metadata": {
  "kernelspec": {
   "display_name": "projetos",
   "language": "python",
   "name": "python3"
  },
  "language_info": {
   "codemirror_mode": {
    "name": "ipython",
    "version": 3
   },
   "file_extension": ".py",
   "mimetype": "text/x-python",
   "name": "python",
   "nbconvert_exporter": "python",
   "pygments_lexer": "ipython3",
   "version": "3.9.7"
  }
 },
 "nbformat": 4,
 "nbformat_minor": 2
}
